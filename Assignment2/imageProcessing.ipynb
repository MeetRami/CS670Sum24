{
  "nbformat": 4,
  "nbformat_minor": 0,
  "metadata": {
    "colab": {
      "provenance": []
    },
    "kernelspec": {
      "name": "python3",
      "display_name": "Python 3"
    },
    "language_info": {
      "name": "python"
    }
  },
  "cells": [
    {
      "cell_type": "code",
      "execution_count": null,
      "metadata": {
        "colab": {
          "base_uri": "https://localhost:8080/"
        },
        "id": "8ddO9cmkD2UY",
        "outputId": "43323bc3-cc5d-4342-cfb6-d4bdb617904e"
      },
      "outputs": [
        {
          "output_type": "stream",
          "name": "stdout",
          "text": [
            "Collecting pytube\n",
            "  Downloading pytube-15.0.0-py3-none-any.whl (57 kB)\n",
            "\u001b[2K     \u001b[90m━━━━━━━━━━━━━━━━━━━━━━━━━━━━━━━━━━━━━━━━\u001b[0m \u001b[32m57.6/57.6 kB\u001b[0m \u001b[31m1.1 MB/s\u001b[0m eta \u001b[36m0:00:00\u001b[0m\n",
            "\u001b[?25hCollecting youtube-transcript-api\n",
            "  Downloading youtube_transcript_api-0.6.2-py3-none-any.whl (24 kB)\n",
            "Requirement already satisfied: requests in /usr/local/lib/python3.10/dist-packages (from youtube-transcript-api) (2.31.0)\n",
            "Requirement already satisfied: charset-normalizer<4,>=2 in /usr/local/lib/python3.10/dist-packages (from requests->youtube-transcript-api) (3.3.2)\n",
            "Requirement already satisfied: idna<4,>=2.5 in /usr/local/lib/python3.10/dist-packages (from requests->youtube-transcript-api) (3.7)\n",
            "Requirement already satisfied: urllib3<3,>=1.21.1 in /usr/local/lib/python3.10/dist-packages (from requests->youtube-transcript-api) (2.0.7)\n",
            "Requirement already satisfied: certifi>=2017.4.17 in /usr/local/lib/python3.10/dist-packages (from requests->youtube-transcript-api) (2024.6.2)\n",
            "Installing collected packages: pytube, youtube-transcript-api\n",
            "Successfully installed pytube-15.0.0 youtube-transcript-api-0.6.2\n"
          ]
        }
      ],
      "source": [
        "!pip install pytube youtube-transcript-api"
      ]
    },
    {
      "cell_type": "code",
      "source": [
        "from pytube import YouTube\n",
        "from youtube_transcript_api import YouTubeTranscriptApi\n",
        "import os\n",
        "import cv2\n",
        "import numpy as np\n",
        "\n",
        "def videoCaption(vURL, folder):\n",
        "  try:\n",
        "    os.makedirs(folder, exist_ok=True)\n",
        "\n",
        "    ytObj = YouTube(vURL)\n",
        "    vStream = ytObj.streams.get_highest_resolution()\n",
        "    vStream.download(output_path=folder)\n",
        "    print(f\"Video is successfully downloaded to {folder}\")\n",
        "\n",
        "    vID = vURL.split(\"v=\")[1]\n",
        "    print(f\"video ID: {str(vID)}\")\n",
        "\n",
        "    vName = os.path.splitext(vStream.default_filename)[0]\n",
        "    print(f\"video name: {vName}\")\n",
        "\n",
        "    cObj = YouTubeTranscriptApi.get_transcript(vID)\n",
        "    cText = \"\\n\".join([f\"{c['start']} - {c['start'] + c['duration']}: {c['text']}\" for c in cObj])\n",
        "    cPath = os.path.join(folder, f\"{vID}Captions.txt\")\n",
        "    with open(cPath, \"w\", encoding=\"utf-8\") as captions_file:\n",
        "            captions_file.write(cText)\n",
        "    print(f\"Captions are successfully downloaded to {cPath}\")\n",
        "\n",
        "    #video reading using OpenCV\n",
        "    vPath = f\"{folder}/{vName}.mp4\"\n",
        "    cap = cv2.VideoCapture(vPath)\n",
        "    frames = []\n",
        "\n",
        "    #check if the video frames are read successfully\n",
        "    if not cap.isOpened():\n",
        "        raise Exception(\"Error reading video frames. Check if the video file exists.\")\n",
        "    else:\n",
        "        #save the preprocessed video\n",
        "        targetWidth = 640\n",
        "        preprocessed_vPath = f\"{folder}/{vID}_preprocessed.mp4\"\n",
        "        fourcc = cv2.VideoWriter_fourcc(*\"mp4v\")\n",
        "        frame_width, frame_height = int(cap.get(3)), int(cap.get(4))\n",
        "        out = cv2.VideoWriter(preprocessed_vPath, fourcc, 30, (targetWidth,frame_height))\n",
        "\n",
        "        while True:\n",
        "          ret, frame = cap.read()\n",
        "          if ret:\n",
        "             #resize the video\n",
        "             frame = cv2.resize(frame, (targetWidth, int(frame.shape[0] * targetWidth / frame.shape[1])))\n",
        "             #print(\"Frame resized successfully.\")\n",
        "             out.write(frame)\n",
        "          else:\n",
        "             break\n",
        "          frames.append(frame)\n",
        "\n",
        "    cap.release()\n",
        "    #convert list to array\n",
        "    frames_array = np.array(frames)\n",
        "\n",
        "    #save frames.npy\n",
        "    output_path = os.path.join(folder, \"frames.npy\")\n",
        "    np.save(output_path, frames_array)\n",
        "\n",
        "    out.release()\n",
        "    print(\"Frames successfully preprocessed & saved as frames.npy\")\n",
        "  except Exception as e:\n",
        "    print(f\"Error preprocessing video: {str(e)}\")\n",
        "\n",
        "vURL = input(\"Enter the YT video url: \")\n",
        "folder = input(\"Enter the folder path: \")\n",
        "videoCaption(vURL, folder)\n"
      ],
      "metadata": {
        "colab": {
          "base_uri": "https://localhost:8080/"
        },
        "id": "lTgTC0WMEDCr",
        "outputId": "0d68dc64-38f9-4b0a-e84e-7f84b192fd24"
      },
      "execution_count": null,
      "outputs": [
        {
          "output_type": "stream",
          "name": "stdout",
          "text": [
            "Enter the YT video url: https://www.youtube.com/watch?v=FlJoBhLnqko&t=7s\n",
            "Enter the folder path: /Users/rhutikatavasalkar/Downloads/test\n",
            "Video downloaded successfully to /Users/rhutikatavasalkar/Downloads/test\n",
            "video_id: FlJoBhLnqko&t=7s\n",
            "video_name: How Green Roofs Can Help Cities  NPR\n",
            "Captions downloaded successfully to /Users/rhutikatavasalkar/Downloads/test/FlJoBhLnqko&t=7s_captions.txt\n",
            "Frames successfully preprocessed & saved as frames.npy\n"
          ]
        }
      ]
    }
  ]
}